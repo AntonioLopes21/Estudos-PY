{
 "cells": [
  {
   "cell_type": "markdown",
   "metadata": {},
   "source": [
    "Aula de API com py\n",
    "\n",
    "# python -m venv .venv \n",
    "cd venv dc scripts e activate\n",
    "cd venv dc scripts e activate                                                pip freeze lista as dependencias usadas no proj                                                    pip install -r requirements.txt                                                                                                    "
   ]
  },
  {
   "cell_type": "code",
   "execution_count": null,
   "metadata": {},
   "outputs": [],
   "source": [
    "import requests\n",
    "\n"
   ]
  }
 ],
 "metadata": {
  "language_info": {
   "name": "python"
  }
 },
 "nbformat": 4,
 "nbformat_minor": 2
}
